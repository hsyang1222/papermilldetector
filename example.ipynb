{
 "cells": [
  {
   "cell_type": "code",
   "execution_count": 134,
   "id": "e81d5716-a189-4199-894f-41a84c0ad136",
   "metadata": {},
   "outputs": [
    {
     "data": {
      "text/plain": [
       "<module 'template_match' from '/home/hsyang/workspace/20211014 지컴시/papermilldetector/template_match.py'>"
      ]
     },
     "execution_count": 134,
     "metadata": {},
     "output_type": "execute_result"
    }
   ],
   "source": [
    "import template_match as tm\n",
    "import importlib\n",
    "importlib.reload(tm)"
   ]
  },
  {
   "cell_type": "code",
   "execution_count": 2,
   "id": "d7c2ceee-730e-444d-b991-15923a18027c",
   "metadata": {},
   "outputs": [
    {
     "name": "stderr",
     "output_type": "stream",
     "text": [
      "100%|██████████| 2318/2318 [00:00<00:00, 5926.98it/s]\n"
     ]
    }
   ],
   "source": [
    "#처음 한번 western blot의 template를 가져옴\n",
    "\n",
    "template_dir = '../split_imageset/western_img/'\n",
    "template_filenamelist, template_img = tm.template_load(template_dir)"
   ]
  },
  {
   "cell_type": "code",
   "execution_count": null,
   "id": "3aae074f-cb5f-48e7-9cca-4717c6622306",
   "metadata": {},
   "outputs": [],
   "source": []
  },
  {
   "cell_type": "code",
   "execution_count": 123,
   "id": "f478a59c-573f-4b97-97e2-547279ccbf18",
   "metadata": {},
   "outputs": [],
   "source": [
    "#논문 pdf를 입력하면 이미지로 추출\n",
    "pdf_file_dir = '../demo_paper/01.pdf'\n",
    "only_paper_name = tm.get_original_paper_name(pdf_file_dir)\n",
    "image_list = tm.pdf_to_img(pdf_file_dir)"
   ]
  },
  {
   "cell_type": "code",
   "execution_count": 125,
   "id": "2c6acf53-f648-45ee-b702-83ad77adb1f8",
   "metadata": {},
   "outputs": [],
   "source": [
    "select_paper_img = image_list[0]"
   ]
  },
  {
   "cell_type": "code",
   "execution_count": null,
   "id": "3d640f55-16ca-47cd-8ef0-45c0e8bf623b",
   "metadata": {},
   "outputs": [],
   "source": []
  },
  {
   "cell_type": "code",
   "execution_count": null,
   "id": "8583b940-e508-4228-93d7-6153e29ea583",
   "metadata": {},
   "outputs": [
    {
     "name": "stderr",
     "output_type": "stream",
     "text": [
      " 72%|███████▏  | 1664/2318 [00:19<00:07, 84.57it/s]"
     ]
    }
   ],
   "source": [
    "matching_result = tm.match_image_with_template(template_filenamelist, template_img, select_paper_img, only_paper_name, N=5)"
   ]
  },
  {
   "cell_type": "code",
   "execution_count": 133,
   "id": "e8380b8d-676b-422f-8073-d50149cbe6ae",
   "metadata": {},
   "outputs": [
    {
     "data": {
      "text/plain": [
       "[]"
      ]
     },
     "execution_count": 133,
     "metadata": {},
     "output_type": "execute_result"
    }
   ],
   "source": [
    "matching_result"
   ]
  },
  {
   "cell_type": "code",
   "execution_count": 115,
   "id": "18d3324b-8b63-472a-a8b7-6a6daaf88422",
   "metadata": {},
   "outputs": [
    {
     "data": {
      "text/plain": [
       "'Oncology Reports(2014). MINGHE LI , ZHIHONG LI , CHONGYANG LIANG , CHENGMIN HAN , WEI HUANG , FEI SUN. \"Upregulation of GRIM-19 suppresses the growth of oral squamous cell carcinoma in vitro and in vivo.\" - Page4 Image2 [0,1] western blot'"
      ]
     },
     "execution_count": 115,
     "metadata": {},
     "output_type": "execute_result"
    }
   ],
   "source": [
    "matching_result[0][1]"
   ]
  },
  {
   "cell_type": "code",
   "execution_count": null,
   "id": "dc1b8d0e-a151-4b02-b263-f1d29bcd674b",
   "metadata": {},
   "outputs": [],
   "source": []
  }
 ],
 "metadata": {
  "kernelspec": {
   "display_name": "stylegan2",
   "language": "python",
   "name": "stylegan2"
  },
  "language_info": {
   "codemirror_mode": {
    "name": "ipython",
    "version": 3
   },
   "file_extension": ".py",
   "mimetype": "text/x-python",
   "name": "python",
   "nbconvert_exporter": "python",
   "pygments_lexer": "ipython3",
   "version": "3.9.5"
  }
 },
 "nbformat": 4,
 "nbformat_minor": 5
}
