{
 "cells": [
  {
   "cell_type": "code",
   "execution_count": 3,
   "id": "e81d5716-a189-4199-894f-41a84c0ad136",
   "metadata": {},
   "outputs": [
    {
     "data": {
      "text/plain": [
       "<module 'template_match' from '/home/hsyang/workspace/20211014 지컴시/papermilldetector/template_match.py'>"
      ]
     },
     "execution_count": 3,
     "metadata": {},
     "output_type": "execute_result"
    }
   ],
   "source": [
    "import template_match as tm\n",
    "import importlib\n",
    "importlib.reload(tm)"
   ]
  },
  {
   "cell_type": "code",
   "execution_count": 7,
   "id": "d7c2ceee-730e-444d-b991-15923a18027c",
   "metadata": {},
   "outputs": [
    {
     "name": "stderr",
     "output_type": "stream",
     "text": [
      "100%|██████████| 2318/2318 [00:00<00:00, 4797.90it/s]\n"
     ]
    }
   ],
   "source": [
    "#처음 한번 western blot의 template를 가져옴\n",
    "\n",
    "template_dir = '../split_imageset/western_img/'\n",
    "template_filenamelist, template_img = tm.template_load(template_dir)"
   ]
  },
  {
   "cell_type": "code",
   "execution_count": null,
   "id": "3aae074f-cb5f-48e7-9cca-4717c6622306",
   "metadata": {},
   "outputs": [],
   "source": []
  },
  {
   "cell_type": "code",
   "execution_count": 4,
   "id": "f478a59c-573f-4b97-97e2-547279ccbf18",
   "metadata": {},
   "outputs": [],
   "source": [
    "#논문 pdf를 입력하면 이미지로 추출\n",
    "pdf_file_dir = '../demo_paper/01.pdf'\n",
    "only_paper_name = tm.get_original_paper_name(pdf_file_dir)\n",
    "image_list = tm.pdf_to_img(pdf_file_dir)"
   ]
  },
  {
   "cell_type": "code",
   "execution_count": 5,
   "id": "2c6acf53-f648-45ee-b702-83ad77adb1f8",
   "metadata": {},
   "outputs": [],
   "source": [
    "select_paper_img = image_list[1]"
   ]
  },
  {
   "cell_type": "code",
   "execution_count": 141,
   "id": "3d640f55-16ca-47cd-8ef0-45c0e8bf623b",
   "metadata": {},
   "outputs": [
    {
     "data": {
      "text/plain": [
       "(632, 836, 3)"
      ]
     },
     "execution_count": 141,
     "metadata": {},
     "output_type": "execute_result"
    }
   ],
   "source": [
    "select_paper_img.shape"
   ]
  },
  {
   "cell_type": "code",
   "execution_count": 8,
   "id": "8583b940-e508-4228-93d7-6153e29ea583",
   "metadata": {},
   "outputs": [
    {
     "name": "stderr",
     "output_type": "stream",
     "text": [
      "  0%|          | 0/2318 [00:00<?, ?it/s]\n"
     ]
    },
    {
     "ename": "error",
     "evalue": "OpenCV(4.5.1) ../modules/imgproc/src/templmatch.cpp:1163: error: (-215:Assertion failed) (depth == CV_8U || depth == CV_32F) && type == _templ.type() && _img.dims() <= 2 in function 'matchTemplate'\n",
     "output_type": "error",
     "traceback": [
      "\u001b[0;31m---------------------------------------------------------------------------\u001b[0m",
      "\u001b[0;31merror\u001b[0m                                     Traceback (most recent call last)",
      "\u001b[0;32m<ipython-input-8-521355d1d464>\u001b[0m in \u001b[0;36m<module>\u001b[0;34m\u001b[0m\n\u001b[0;32m----> 1\u001b[0;31m \u001b[0mmatching_result\u001b[0m \u001b[0;34m=\u001b[0m \u001b[0mtm\u001b[0m\u001b[0;34m.\u001b[0m\u001b[0mmatch_image_with_template\u001b[0m\u001b[0;34m(\u001b[0m\u001b[0mtemplate_filenamelist\u001b[0m\u001b[0;34m,\u001b[0m \u001b[0mtemplate_img\u001b[0m\u001b[0;34m,\u001b[0m \u001b[0mselect_paper_img\u001b[0m\u001b[0;34m,\u001b[0m \u001b[0monly_paper_name\u001b[0m\u001b[0;34m,\u001b[0m \u001b[0mN\u001b[0m\u001b[0;34m=\u001b[0m\u001b[0;36m5\u001b[0m\u001b[0;34m)\u001b[0m\u001b[0;34m\u001b[0m\u001b[0;34m\u001b[0m\u001b[0m\n\u001b[0m",
      "\u001b[0;32m/home/hsyang/workspace/20211014 지컴시/papermilldetector/template_match.py\u001b[0m in \u001b[0;36mmatch_image_with_template\u001b[0;34m(template_filenamelist, template_img, select_paper_img, paper_name, N, score_limit)\u001b[0m\n\u001b[1;32m    104\u001b[0m \u001b[0;34m\u001b[0m\u001b[0m\n\u001b[1;32m    105\u001b[0m         \u001b[0;32mif\u001b[0m \u001b[0mselect_paper_img\u001b[0m\u001b[0;34m.\u001b[0m\u001b[0mshape\u001b[0m\u001b[0;34m[\u001b[0m\u001b[0;36m0\u001b[0m\u001b[0;34m]\u001b[0m \u001b[0;34m<\u001b[0m \u001b[0mtemplate\u001b[0m\u001b[0;34m.\u001b[0m\u001b[0mshape\u001b[0m\u001b[0;34m[\u001b[0m\u001b[0;36m0\u001b[0m\u001b[0;34m]\u001b[0m \u001b[0;32mor\u001b[0m \u001b[0mselect_paper_img\u001b[0m\u001b[0;34m.\u001b[0m\u001b[0mshape\u001b[0m\u001b[0;34m[\u001b[0m\u001b[0;36m1\u001b[0m\u001b[0;34m]\u001b[0m \u001b[0;34m<\u001b[0m \u001b[0mtemplate\u001b[0m\u001b[0;34m.\u001b[0m\u001b[0mshape\u001b[0m\u001b[0;34m[\u001b[0m\u001b[0;36m1\u001b[0m\u001b[0;34m]\u001b[0m \u001b[0;34m:\u001b[0m \u001b[0;32mcontinue\u001b[0m\u001b[0;34m\u001b[0m\u001b[0;34m\u001b[0m\u001b[0m\n\u001b[0;32m--> 106\u001b[0;31m         \u001b[0mres\u001b[0m \u001b[0;34m=\u001b[0m \u001b[0mcv2\u001b[0m\u001b[0;34m.\u001b[0m\u001b[0mmatchTemplate\u001b[0m\u001b[0;34m(\u001b[0m\u001b[0mselect_paper_img\u001b[0m\u001b[0;34m,\u001b[0m\u001b[0mtemplate\u001b[0m\u001b[0;34m,\u001b[0m\u001b[0mmethod\u001b[0m\u001b[0;34m)\u001b[0m\u001b[0;34m\u001b[0m\u001b[0;34m\u001b[0m\u001b[0m\n\u001b[0m\u001b[1;32m    107\u001b[0m         \u001b[0mmin_val\u001b[0m\u001b[0;34m,\u001b[0m\u001b[0mmax_val\u001b[0m\u001b[0;34m,\u001b[0m\u001b[0mmin_loc\u001b[0m\u001b[0;34m,\u001b[0m \u001b[0mmax_loc\u001b[0m \u001b[0;34m=\u001b[0m \u001b[0mcv2\u001b[0m\u001b[0;34m.\u001b[0m\u001b[0mminMaxLoc\u001b[0m\u001b[0;34m(\u001b[0m\u001b[0mres\u001b[0m\u001b[0;34m)\u001b[0m\u001b[0;34m\u001b[0m\u001b[0;34m\u001b[0m\u001b[0m\n\u001b[1;32m    108\u001b[0m \u001b[0;34m\u001b[0m\u001b[0m\n",
      "\u001b[0;31merror\u001b[0m: OpenCV(4.5.1) ../modules/imgproc/src/templmatch.cpp:1163: error: (-215:Assertion failed) (depth == CV_8U || depth == CV_32F) && type == _templ.type() && _img.dims() <= 2 in function 'matchTemplate'\n"
     ]
    }
   ],
   "source": [
    "matching_result = tm.match_image_with_template(template_filenamelist, template_img, select_paper_img, only_paper_name, N=5)"
   ]
  },
  {
   "cell_type": "code",
   "execution_count": 136,
   "id": "e8380b8d-676b-422f-8073-d50149cbe6ae",
   "metadata": {},
   "outputs": [
    {
     "data": {
      "image/png": "[encoded data removed]",
      "text/plain": [
       "<Figure size 600x200 with 3 Axes>"
      ]
     },
     "execution_count": 136,
     "metadata": {},
     "output_type": "execute_result"
    }
   ],
   "source": [
    "matching_result[0][0]"
   ]
  },
  {
   "cell_type": "code",
   "execution_count": 137,
   "id": "18d3324b-8b63-472a-a8b7-6a6daaf88422",
   "metadata": {},
   "outputs": [
    {
     "data": {
      "text/plain": [
       "'no matched'"
      ]
     },
     "execution_count": 137,
     "metadata": {},
     "output_type": "execute_result"
    }
   ],
   "source": [
    "matching_result[0][1]"
   ]
  },
  {
   "cell_type": "code",
   "execution_count": null,
   "id": "dc1b8d0e-a151-4b02-b263-f1d29bcd674b",
   "metadata": {},
   "outputs": [],
   "source": []
  }
 ],
 "metadata": {
  "kernelspec": {
   "display_name": "stylegan2",
   "language": "python",
   "name": "stylegan2"
  },
  "language_info": {
   "codemirror_mode": {
    "name": "ipython",
    "version": 3
   },
   "file_extension": ".py",
   "mimetype": "text/x-python",
   "name": "python",
   "nbconvert_exporter": "python",
   "pygments_lexer": "ipython3",
   "version": "3.9.5"
  }
 },
 "nbformat": 4,
 "nbformat_minor": 5
}
